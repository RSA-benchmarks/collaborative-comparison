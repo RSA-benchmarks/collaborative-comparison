{
 "cells": [
  {
   "cell_type": "markdown",
   "metadata": {},
   "source": [
    "# Benchmark C1.2: Coupled problems - Water uptake by a static root system\n",
    "by Daniel Leitner, Andrea Schnepf"
   ]
  },
  {
   "cell_type": "code",
   "execution_count": 2,
   "metadata": {},
   "outputs": [],
   "source": [
    "import numpy as np\n",
    "import matplotlib.pyplot as plt\n",
    "from scipy import integrate\n",
    "from scipy.interpolate import interp1d\n",
    "import csv\n",
    "from pathlib import Path\n",
    "import os\n",
    "from van_genuchten import *"
   ]
  },
  {
   "cell_type": "markdown",
   "metadata": {},
   "source": [
    "## Theory\n",
    "\n"
   ]
  },
  {
   "cell_type": "markdown",
   "metadata": {},
   "source": [
    "## Description of benchmark C1.2\n"
   ]
  },
  {
   "cell_type": "markdown",
   "metadata": {},
   "source": [
    "text from paper:\n",
    "\n",
    "Benchmark (C1.2) is about root water uptake from a drying soil by a static root system architecture \\citep[see][]{Schnepf2020}. We chose this example, that starts with an initially dry soil that becomes even drier as water is taken up by the roots, to challenge the different simulators as in this case, soil water pressure head gradients can be expected. Water transpiration is given by a sinusoidal function which reaches its maximal transpiration at noon and no transpiration at midnight. In this scenario we are interested in comparing actual transpiration and cumulative uptake over time, especially the times of stress onset. \n",
    "\n",
    "The way in which soil and root problems are coupled is not predefined and may be different between the simulators. Classical sink terms are based on the pressure gradient between xylem and the pressure of the corresponding soil control element. Other methods resolve the rhizosphere in more detail to estimate the soil water pressure head at the soil-root interface more accurately. In dry soil this can make a substential difference. The reference solution was described by \\citep{Schnepf2020} and is itself a numerical solution of the explicit 3d-simulation with a high resolution mesh of the soil domain (excluding the roots) that is refined near the root-soil boundary."
   ]
  },
  {
   "cell_type": "markdown",
   "metadata": {},
   "source": [
    "## Reference solution"
   ]
  },
  {
   "cell_type": "code",
   "execution_count": null,
   "metadata": {},
   "outputs": [],
   "source": []
  },
  {
   "cell_type": "markdown",
   "metadata": {},
   "source": [
    "## References\n",
    "\n",
    "\n"
   ]
  },
  {
   "cell_type": "code",
   "execution_count": null,
   "metadata": {},
   "outputs": [],
   "source": []
  }
 ],
 "metadata": {
  "kernelspec": {
   "display_name": "Python 3",
   "language": "python",
   "name": "python3"
  },
  "language_info": {
   "codemirror_mode": {
    "name": "ipython",
    "version": 3
   },
   "file_extension": ".py",
   "mimetype": "text/x-python",
   "name": "python",
   "nbconvert_exporter": "python",
   "pygments_lexer": "ipython3",
   "version": "3.8.10"
  },
  "latex_envs": {
   "LaTeX_envs_menu_present": true,
   "autoclose": false,
   "autocomplete": true,
   "bibliofile": "biblio.bib",
   "cite_by": "apalike",
   "current_citInitial": 1,
   "eqLabelWithNumbers": true,
   "eqNumInitial": 1,
   "hotkeys": {
    "equation": "Ctrl-E",
    "itemize": "Ctrl-I"
   },
   "labels_anchors": false,
   "latex_user_defs": false,
   "report_style_numbering": false,
   "user_envs_cfg": false
  }
 },
 "nbformat": 4,
 "nbformat_minor": 4
}
