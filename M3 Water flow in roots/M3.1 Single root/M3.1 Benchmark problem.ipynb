{
 "cells": [
  {
   "cell_type": "markdown",
   "metadata": {},
   "source": [
    "# Benchmark M3.1: Water flow in roots - Single root\n",
    "\n",
    "by Daniel Leitner, Andrea Schnepf \n",
    "\n",
    "In this benchmark problem we consider a vertical single root segment surrounded by a static soil with constant soil matric potential."
   ]
  },
  {
   "cell_type": "code",
   "execution_count": 1,
   "metadata": {},
   "outputs": [
    {
     "data": {
      "application/javascript": [
       "MathJax.Hub.Config({\n",
       "    TeX: { equationNumbers: { autoNumber: \"AMS\" } }\n",
       "});\n"
      ],
      "text/plain": [
       "<IPython.core.display.Javascript object>"
      ]
     },
     "metadata": {},
     "output_type": "display_data"
    }
   ],
   "source": [
    "%%javascript\n",
    "MathJax.Hub.Config({\n",
    "    TeX: { equationNumbers: { autoNumber: \"AMS\" } }\n",
    "});"
   ]
  },
  {
   "cell_type": "code",
   "execution_count": 2,
   "metadata": {},
   "outputs": [],
   "source": [
    "import numpy as np\n",
    "import matplotlib.pyplot as plt\n",
    "from van_genuchten import * "
   ]
  },
  {
   "cell_type": "markdown",
   "metadata": {},
   "source": [
    "## Theory\n",
    "In this module, we consider water flow in xylem with the soil water potential considered static. The derivation of this problem is based on Roose and Fowler (2004) and Doussan et al. (2006).\n",
    "\n",
    "\n",
    "The axial water flux in a xylem is given by \n",
    "\\begin{eqnarray} \n",
    "q_z = - k_z \\left( \\frac{\\partial \\psi_r}{\\partial z} - e_z \\cdot v \\right), \\label{axialflux}\n",
    "\\end{eqnarray}\n",
    "with units [cm$^3$ day$^{-1}$], see Eqn 3.1 Roose and Fowler, 2004. \n",
    "The parameter $k_z$ is the axial conductance [cm$^3$ day$^{-1}$], \n",
    "$\\psi_r$ is the pressure inside the xylem [cm], \n",
    "$e_z$ the downward unit vector [1],\n",
    "and $v$ the normed direction of the xylem [1]. Thus Eqn \\ref{axialflux} can be expressed as\n",
    "\\begin{eqnarray}\n",
    "q_z = - k_z \\left( \\frac{\\partial \\psi_r}{\\partial z} + v_3 \\right), \\label{axialflux2}\n",
    "\\end{eqnarray}\n",
    "where $v_3$ is the $z$-component of the normed xylem direction. \n",
    "\n",
    "The radial flux is given by \n",
    "\\begin{eqnarray}\n",
    "q_r = - 2 a \\pi l k_r (\\psi_s - \\psi_r),\n",
    "\\end{eqnarray}\n",
    "with units [cm$^3$ day$^{-1}$] (based on Eqn 3.3 Roose and Fowler, 2004), \n",
    "where $a$ is the root radius [cm], \n",
    "$l$ is the segments length [cm], \n",
    "$k_r$ is the radial conductance [day$^{-1}$], \n",
    "and $\\psi_s$ is the soil matric potential of the surrounding soil [cm]. \n",
    "\n",
    "The net flux is given by\n",
    "\\begin{eqnarray}\n",
    "q = q_z + q_r,\n",
    "\\end{eqnarray} \n",
    "and mass conservation yields\n",
    "\\begin{eqnarray}\n",
    "2 a \\pi k_r (\\psi_s - \\psi_r) = - k_z \\frac{\\partial^2 \\psi_r}{\\partial z^2} \\label{masscons}\n",
    "\\end{eqnarray}\n",
    "(see Eqn 3.4 Roose and Fowler, 2004).\n",
    "\n",
    "### Analytical solution\n",
    "\n",
    "For constant $k_r$ and $k_z$ we can solve Eqn \\ref{masscons} yielding \n",
    "\\begin{eqnarray}\n",
    "\\psi_r(z) := \\psi_s + d_1 e^{\\sqrt{c} z } + d_2 e^{-\\sqrt{c} z} \\label{analytic_flux}\n",
    "\\end{eqnarray} \n",
    "with $c = 2 a \\pi k_r / k_z$. \n",
    "\n",
    "In the following the constants $d_1$, and $d_2$ [cm] are calculated from the boundary conditions.\n",
    "The Dirichlet boundary conditions at the top $\\psi_r(0) =\\psi_0$ is inserted into the analytic solution Eqn \\ref{analytic_flux}, and yields\n",
    "\\begin{eqnarray}\n",
    "\\psi_s + d_1  + d_2  = \\psi_0.\n",
    "\\end{eqnarray}\n",
    "\n",
    "The Neumann boundary conition $q_z(L) = 0$ (Eqn \\ref{axialflux2}) leads to \n",
    "\\begin{eqnarray}\n",
    "\\frac{\\partial \\psi_r}{\\partial z} (L) = v_3.\n",
    "\\end{eqnarray}\n",
    "Using the derivation of the analytical solution yields\n",
    "\\begin{eqnarray}\n",
    "d_1 \\sqrt{c} e^{\\sqrt{c} L } - d_2 \\sqrt{c} e^{-\\sqrt{c} L}  = v_3.\n",
    "\\end{eqnarray}\n",
    "\n",
    "\n",
    "For a straight segment $v_3 = -1$. Therefore, we solve \n",
    "\\begin{align}\n",
    "\\left(\\begin{array}{cc}\n",
    "  1 & 1  \\\\\n",
    " \\sqrt{c} \\exp{(\\sqrt{c} L)} & -\\sqrt{c} \\exp{(-\\sqrt{c} L)} \\\\\n",
    "\\end{array}\\right)\n",
    "\\left(\\begin{array}{c}\n",
    "  d_{1}  \\\\\n",
    "  d_{2}  \\\\\n",
    "\\end{array}\\right)\n",
    "{} &= \n",
    "\\left(\\begin{array}{c}  \n",
    "  \\psi_0-\\psi_s \\\\\n",
    "  -1 \\\\\n",
    "\\end{array}\\right)\n",
    "\\end{align}\n",
    "\n",
    "Solving for the constants $d_1$, and $d_2$, yields the analytical solution."
   ]
  },
  {
   "cell_type": "markdown",
   "metadata": {},
   "source": [
    "## Description of benchmark M3.1"
   ]
  },
  {
   "cell_type": "markdown",
   "metadata": {},
   "source": [
    "The parameters of the single root benchmark are given by"
   ]
  },
  {
   "cell_type": "code",
   "execution_count": 3,
   "metadata": {},
   "outputs": [],
   "source": [
    "L = 50            # length of single straight root [cm]\n",
    "a = 0.2           # root radius  [cm]\n",
    "kx = 0.0432       # root axial conductivity [cm^3 / day] \n",
    "kr = 1.73e-4      # root radial conductivity [1 / day]\n",
    "p_s = -200        # soil matric potiential [cm]\n",
    "p0 = -1000        # dirichlet bc at root collar [cm]"
   ]
  },
  {
   "cell_type": "markdown",
   "metadata": {},
   "source": [
    "The analytical solution is obtained by solving Eqn 10."
   ]
  },
  {
   "cell_type": "code",
   "execution_count": 5,
   "metadata": {},
   "outputs": [
    {
     "name": "stdout",
     "output_type": "stream",
     "text": [
      "potential at the root collar -1000.0 cm\n",
      "potential at the root tip -27957.1383016587 cm\n",
      "mean potential -7800.212543898868 cm\n"
     ]
    },
    {
     "data": {
      "image/png": "[encoded data removed]",
      "text/plain": [
       "<Figure size 504x504 with 1 Axes>"
      ]
     },
     "metadata": {
      "needs_background": "light"
     },
     "output_type": "display_data"
    }
   ],
   "source": [
    "c = 2*a*np.pi*kr/kx\n",
    "p_r = lambda z: p_s + d[0]*np.exp(np.sqrt(c)*z) + d[1]*np.exp(-np.sqrt(c)*z) # Eqn 6\n",
    "\n",
    "# Boundary conditions\n",
    "AA = np.array([[1,1], [np.sqrt(c)*np.exp(np.sqrt(c)*(-L)), -np.sqrt(c)*np.exp(-np.sqrt(c)*(-L))] ]) \n",
    "bb = np.array([p0-p_s, -1]) \n",
    "d = np.linalg.solve(AA, bb) # Eqn 10\n",
    "\n",
    "# Print results\n",
    "print(\"potential at the root collar\", p_r(0), \"cm\")\n",
    "print(\"potential at the root tip\", p_r(L), \"cm\")\n",
    "mean_p = (np.exp(-np.sqrt(c) * L) * (np.exp(np.sqrt(c) * L) - 1) * (d[0] * np.exp(np.sqrt(c) * L) + d[1])) / np.sqrt(c) + L * p_s\n",
    "print(\"mean potential\", mean_p/L, \"cm\")\n",
    "\n",
    "# Plot results\n",
    "fig=plt.figure(figsize=(7, 7))\n",
    "za_ = np.linspace(0, -L, 100)\n",
    "pr = list(map(p_r, za_))\n",
    "plt.plot(pr,za_,'b')\n",
    "plt.xlabel(\"xylem potential (cm)\")\n",
    "plt.ylabel(\"depth (cm)\")\n",
    "plt.show()"
   ]
  },
  {
   "cell_type": "markdown",
   "metadata": {},
   "source": [
    "## References\n",
    "\n",
    "Doussan, C., Pierret, A., Garrigues, E., and Pages, L. (2006). Water uptake by plant roots: II - Modelling of water transfer in the soil root-system with explicit account of flow within the root system - comparison with experiments. *Plant and Soil*, 283(1-2):99–117.\n",
    "\n",
    "Roose, T. and Fowler, A. C. (2004). A model for water uptake by plant roots. *Journal of Theoretical Biology*, 228(2):155–171."
   ]
  }
 ],
 "metadata": {
  "kernelspec": {
   "display_name": "Python 3",
   "language": "python",
   "name": "python3"
  },
  "language_info": {
   "codemirror_mode": {
    "name": "ipython",
    "version": 3
   },
   "file_extension": ".py",
   "mimetype": "text/x-python",
   "name": "python",
   "nbconvert_exporter": "python",
   "pygments_lexer": "ipython3",
   "version": "3.8.10"
  },
  "latex_envs": {
   "LaTeX_envs_menu_present": true,
   "autoclose": false,
   "autocomplete": true,
   "bibliofile": "biblio.bib",
   "cite_by": "apalike",
   "current_citInitial": 1,
   "eqLabelWithNumbers": true,
   "eqNumInitial": 1,
   "hotkeys": {
    "equation": "Ctrl-E",
    "itemize": "Ctrl-I"
   },
   "labels_anchors": false,
   "latex_user_defs": false,
   "report_style_numbering": false,
   "user_envs_cfg": false
  }
 },
 "nbformat": 4,
 "nbformat_minor": 2
}
