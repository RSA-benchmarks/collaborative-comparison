{
 "cells": [
  {
   "cell_type": "markdown",
   "metadata": {},
   "source": [
    "# Module 2.1: Water flow in soil - Infiltration\n",
    "\n",
    "*by Daniel Leitner, Andrea Schnepf*"
   ]
  },
  {
   "cell_type": "markdown",
   "metadata": {},
   "source": [
    "## Theory\n",
    "\n",
    "\n",
    "In this module, we describe benchmark problems that only relate to water flow in soil. \n",
    "Water flow in soil is most commonly described by the Richards equation: \n",
    "\\begin{eqnarray} \\label{eq:rich1d}\n",
    "\\frac{\\partial \\theta}{\\partial t}=  \\nabla \\cdot\\left( K_c(\\theta) \\left( \\nabla \\psi_s - e_3 \\right) \\right),\n",
    "\\end{eqnarray}\n",
    "in three dimesnions, where $\\theta$ is the water content [1], $K_c$ is the hydraulic conductivity [cm / day], and  $\\psi_s$ is the soil matric potential [cm]. \n",
    "\n",
    "\n",
    "The relationship between soil water potential and water content is generally described by the water retention curve. In the following we will use the Mualem Van Genuchten model (Van Genuchten, 1980) to describe this curve specifying the soil moisture characteristic of specific soils. "
   ]
  },
  {
   "cell_type": "markdown",
   "metadata": {},
   "source": [
    "## Benchmark M2.1\n",
    "\n",
    "\n",
    "Benchmarks for water movement in soil were developed by Vanderborght et al. (2005). In the following we will shortly describe two relevant benchmarks and implement their analytical solutions. The derivation is given by Vanderborght et al. (2005).  "
   ]
  },
  {
   "cell_type": "code",
   "execution_count": 1,
   "metadata": {},
   "outputs": [],
   "source": [
    "import numpy as np\n",
    "from scipy import integrate\n",
    "import matplotlib.pyplot as plt\n",
    "from van_genuchten import *"
   ]
  },
  {
   "cell_type": "markdown",
   "metadata": {},
   "source": [
    "The benchmarks use the following soil types (from the soil catalogue of Hydrus 1D), the parameters are $\\theta_r$ [1], $\\theta_s$ [1], $\\alpha$ [1/cm], $n$ [1], and $K_s$ [cm / day]:"
   ]
  },
  {
   "cell_type": "code",
   "execution_count": 2,
   "metadata": {},
   "outputs": [],
   "source": [
    "sand = Parameters(0.045, 0.43, 0.15, 3, 1000) \n",
    "loam = Parameters(0.08, 0.43, 0.04, 1.6, 50)\n",
    "clay = Parameters(0.1, 0.4, 0.01, 1.1, 10)"
   ]
  },
  {
   "cell_type": "markdown",
   "metadata": {},
   "source": [
    "For each of the soil types, sand, loam and clay, we consider infiltration into an initially dry soil profile of 200 cm depth, with a matric potential of -400 cm everywhere. \n",
    "\n",
    "At the top boundary we prescribe an influx of 100 cm/day if the soil matric potential is negative ($\\psi_s(z=0) < 0$ cm), else we prescribe full saturation as Dirichlet boundary condition ($\\psi_s(z=0)= 0$ cm). At the bottom free drainage boundary conditions is used."
   ]
  },
  {
   "cell_type": "markdown",
   "metadata": {},
   "source": [
    "The analytical solution of Benchmark M2.1 is calculated by the following code and reproduces Figure 4abc from Vanderborght et al. (2005), where the water content is plotted for different times: 0.1, 0.2, and 0.3 days for Scenario 1; 0.2, 0.5, and 1 days for Scenario 2; 0.1, 0.2, and 0.5 days for Scenario 3."
   ]
  },
  {
   "cell_type": "code",
   "execution_count": 3,
   "metadata": {},
   "outputs": [
    {
     "data": {
      "image/png": "[encoded data removed]",
      "text/plain": [
       "<Figure size 1008x504 with 3 Axes>"
      ]
     },
     "metadata": {
      "needs_background": "light"
     },
     "output_type": "display_data"
    }
   ],
   "source": [
    "tv=[ [0.1, 0.2, 0.3], [0.2, 0.5, 1.0], [0.1, 0.2, 0.5] ] # time values (days)\n",
    "t_a2 = [0.1, 0.2, 0.1] \n",
    "x_aa = [43, 41, 27.5]     \n",
    "\n",
    "fig, (ax1, ax2, ax3) = plt.subplots(1, 3, figsize=(14, 7))\n",
    "ax = [ax1,ax2,ax3]\n",
    "theta3 = []\n",
    "z3 = []\n",
    "\n",
    "for i, soil in enumerate([sand, loam, clay]): # make three subplots\n",
    "        \n",
    "    if soil==sand:\n",
    "        theta_sur = 0.2824 # calculated form the influx 100 cm/day\n",
    "    else:\n",
    "        theta_sur = soil.theta_S  # full saturation          \n",
    "    theta_i = water_content(-400,soil);\n",
    "        \n",
    "    K_sur = hydraulic_conductivity( pressure_head(theta_sur,soil), soil);\n",
    "    K_i = hydraulic_conductivity(-400, soil)\n",
    "    psi = lambda theta: pressure_head(theta,soil)\n",
    "    K = lambda psi: hydraulic_conductivity(psi,soil)\n",
    "    Dw = lambda psi: K(psi)/(specific_moisture_storage(psi,soil))            \n",
    "    F = lambda theta:  Dw(psi(theta)) / ( (K_sur - K_i)*(theta - theta_i) - (K(psi(theta)) - K_i)*(theta_sur - theta_i) ) \n",
    "    \n",
    "    theta_a = (theta_sur+theta_i)/2\n",
    "    theta_ = np.linspace (theta_i+1e-3,theta_sur-1e-3,1000)\n",
    "\n",
    "    delta_eta = np.zeros(len(theta_),)\n",
    "    for j in range(0,len(theta_)):\n",
    "        ans, err = integrate.quad(F,theta_[j],theta_a)\n",
    "        delta_eta[j] = ans\n",
    "    \n",
    "    delta_eta = delta_eta * (theta_sur - theta_i)\n",
    "    x_a = x_aa[i]\n",
    "    t_a = t_a2[i]        \n",
    "    eta_a = x_a - (K_sur-K_i)/(theta_sur - theta_i)*t_a\n",
    "    eta = delta_eta + eta_a\n",
    "       \n",
    "    for j in range(0,len(tv[0])): # finally, plot the thing \n",
    "        t = tv[i][j]\n",
    "        x = eta  + (K_sur - K_i) * t / (theta_sur - theta_i);\n",
    "        ax[i].plot(theta_,-x,'b-')\n",
    "        theta3.append(theta_) # remember results for evaluation\n",
    "        z3.append(-x)\n",
    "    ax[i].set_xlabel(r'$\\theta$ [1]')\n",
    "    ax[i].set_xlim(0,0.5)\n",
    "\n",
    "ax1.set_ylabel('Depth [cm]')\n",
    "ax1.set_ylim(-150,0)\n",
    "ax2.set_ylim(-200,0)\n",
    "ax3.set_ylim(-120,0)\n",
    "plt.show()"
   ]
  },
  {
   "cell_type": "markdown",
   "metadata": {
    "collapsed": true
   },
   "source": [
    "## References\n",
    "\n",
    "Vanderborght, J and Kasteel, R and Herbst, M and Javaux, M and Thiery, D and Vanclooster, M and Mouvet, C and Vereecken, H (2005) A set of analytical benchmarks to test numerical models of flow and transport in soils. *Vadose Zone Journal*, 4(1):206-221\n",
    "\n",
    "Van Genuchten, MT (1980) Closed-form equation for predicting the hydraulic conductivity of unsaturated soils. *Soil Science Society of America Journal* 44(5):892-898\n"
   ]
  }
 ],
 "metadata": {
  "kernelspec": {
   "display_name": "Python 3",
   "language": "python",
   "name": "python3"
  },
  "language_info": {
   "codemirror_mode": {
    "name": "ipython",
    "version": 3
   },
   "file_extension": ".py",
   "mimetype": "text/x-python",
   "name": "python",
   "nbconvert_exporter": "python",
   "pygments_lexer": "ipython3",
   "version": "3.8.10"
  },
  "latex_envs": {
   "LaTeX_envs_menu_present": true,
   "autoclose": false,
   "autocomplete": true,
   "bibliofile": "biblio.bib",
   "cite_by": "apalike",
   "current_citInitial": 1,
   "eqLabelWithNumbers": true,
   "eqNumInitial": 1,
   "hotkeys": {
    "equation": "Ctrl-E",
    "itemize": "Ctrl-I"
   },
   "labels_anchors": false,
   "latex_user_defs": false,
   "report_style_numbering": false,
   "user_envs_cfg": false
  }
 },
 "nbformat": 4,
 "nbformat_minor": 2
}
